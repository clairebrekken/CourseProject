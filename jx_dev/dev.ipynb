{
 "cells": [
  {
   "cell_type": "markdown",
   "metadata": {},
   "source": [
    "### Import Packages"
   ]
  },
  {
   "cell_type": "code",
   "execution_count": 11,
   "metadata": {},
   "outputs": [],
   "source": [
    "import pandas                  as     pd\n",
    "import numpy                   as     np\n",
    "import seaborn                 as     sns\n",
    "import os \n",
    "import matplotlib.pyplot       as     plt\n",
    "from   utils_text_clf          import utils_text_clf as utils\n",
    "from   sklearn.model_selection import StratifiedKFold, \\\n",
    "                                      cross_validate, \\\n",
    "                                      cross_val_predict, \\\n",
    "                                      GridSearchCV\n",
    "from   sklearn.pipeline        import Pipeline                            \n",
    "from   sklearn.preprocessing   import StandardScaler, \\\n",
    "                                      RobustScaler, \\\n",
    "                                      MinMaxScaler\n",
    "from   sklearn.tree            import DecisionTreeClassifier\n",
    "from   sklearn.linear_model    import LogisticRegression\n",
    "from   sklearn.svm             import LinearSVC, SVC\n",
    "from   sklearn.neighbors       import KNeighborsClassifier\n",
    "from   sklearn.naive_bayes     import GaussianNB\n",
    "from   sklearn.ensemble        import RandomForestClassifier, \\\n",
    "                                      AdaBoostClassifier, \\\n",
    "                                      GradientBoostingClassifier\n",
    "from   sklearn.manifold        import TSNE\n",
    "from   sklearn.decomposition   import PCA\n",
    "import xgboost                 as     xgb\n",
    "from   sklearn.metrics         import roc_curve\n",
    "from   scipy                   import interp\n",
    "from   pathlib                 import Path\n",
    "from   pickle                  import dump\n",
    "import joblib\n",
    "\n",
    "# Turn interactive plotting off\n",
    "plt.ion()  \n",
    "import warnings\n",
    "warnings.filterwarnings(\"ignore\")"
   ]
  },
  {
   "cell_type": "markdown",
   "metadata": {},
   "source": [
    "### Run feature engineering"
   ]
  },
  {
   "cell_type": "code",
   "execution_count": null,
   "metadata": {},
   "outputs": [],
   "source": [
    "#%% run feature engineering code \n",
    "%run feature_engineering.py\n",
    "print('done!')"
   ]
  },
  {
   "cell_type": "markdown",
   "metadata": {},
   "source": [
    "### Enter mutable info"
   ]
  },
  {
   "cell_type": "code",
   "execution_count": 5,
   "metadata": {},
   "outputs": [],
   "source": [
    "#%% Enter mutable info\n",
    "\n",
    "data_dir    = os.path.join(os.getcwd(), 'data')\n",
    "results_dir = os.path.join(os.getcwd(), 'results')\n",
    "\n",
    "# training data \n",
    "#file_train = 'train.jsonl'\n",
    "\n",
    "# training data\n",
    "file_train  = 'train_feature_engineering.csv';\n",
    "file_test   = 'test_feature_engineering.csv'\n",
    "\n",
    "#file_train = os.path.join(data_dir, file_train) \n",
    "file_train  = os.path.join(data_dir, file_train) \n",
    "file_test   = os.path.join(data_dir, file_test)"
   ]
  },
  {
   "cell_type": "markdown",
   "metadata": {},
   "source": [
    "### Load in data "
   ]
  },
  {
   "cell_type": "code",
   "execution_count": 6,
   "metadata": {},
   "outputs": [],
   "source": [
    "#%% load in data \n",
    "\n",
    "#df_train = utils.parse_json(file_train)\n",
    "df_train  = pd.read_csv(file_train)\n",
    "\n",
    "# feats\n",
    "x_train  = df_train.iloc[:, 1:]\n",
    "\n",
    "# labels \n",
    "y_train  = df_train.label\n",
    "\n",
    "# convert labels to binary (1 - sarcasm)\n",
    "y_train  = [1 if i == 'SARCASM' else 0 for i in y_train]"
   ]
  },
  {
   "cell_type": "code",
   "execution_count": 7,
   "metadata": {},
   "outputs": [
    {
     "name": "stdout",
     "output_type": "stream",
     "text": [
      "The count of sarcastic tweets is: 2500\n",
      "The count of non-sarcastic tweets is: 2500\n"
     ]
    }
   ],
   "source": [
    "#%% check label proportions \n",
    "\n",
    "# print count\n",
    "print('The count of sarcastic tweets is:', y_train.count(1))\n",
    "print('The count of non-sarcastic tweets is:', y_train.count(0))"
   ]
  },
  {
   "cell_type": "code",
   "execution_count": 18,
   "metadata": {},
   "outputs": [
    {
     "data": {
      "text/plain": [
       "(5000, 9967)"
      ]
     },
     "execution_count": 18,
     "metadata": {},
     "output_type": "execute_result"
    }
   ],
   "source": [
    "# check the size of the training data \n",
    "x_train.shape"
   ]
  },
  {
   "cell_type": "raw",
   "metadata": {},
   "source": [
    "#==========================================\n",
    "#   ____   ____    _                      \n",
    "#  |  _ \\ / ___|  / \\                     \n",
    "#  | |_) | |     / _ \\                    \n",
    "#  |  __/| |___ / ___ \\ _           _     \n",
    "#  |_|/ \\ \\____/_/ __\\_\\ |_   _ ___(_)___ \n",
    "#    / _ \\ | '_ \\ / _` | | | | / __| / __|\n",
    "#   / ___ \\| | | | (_| | | |_| \\__ \\ \\__ \\\n",
    "#  /_/   \\_\\_| |_|\\__,_|_|\\__, |___/_|___/\n",
    "#                         |___/           \n",
    "#=========================================="
   ]
  },
  {
   "cell_type": "code",
   "execution_count": 22,
   "metadata": {},
   "outputs": [
    {
     "name": "stdout",
     "output_type": "stream",
     "text": [
      "pca done!\n"
     ]
    }
   ],
   "source": [
    "# compute PCAs\n",
    "pca = PCA().fit(x_train)\n",
    "print('pca done!')"
   ]
  },
  {
   "cell_type": "code",
   "execution_count": 37,
   "metadata": {},
   "outputs": [],
   "source": [
    "# variance explained \n",
    "var_exp = np.cumsum(pca.explained_variance_ratio_)\n",
    "\n",
    "# num of components \n",
    "n_comp  = range(len(var_exp))"
   ]
  },
  {
   "cell_type": "code",
   "execution_count": 40,
   "metadata": {},
   "outputs": [
    {
     "data": {
      "text/plain": [
       "Text(0, 0.5, 'cumulative explained variance')"
      ]
     },
     "execution_count": 40,
     "metadata": {},
     "output_type": "execute_result"
    },
    {
     "data": {
      "image/png": "[encoded data removed]",
      "text/plain": [
       "<Figure size 1080x720 with 2 Axes>"
      ]
     },
     "metadata": {
      "needs_background": "light"
     },
     "output_type": "display_data"
    }
   ],
   "source": [
    "# plot explained variance vs. # of components \n",
    "\n",
    "f, (ax1, ax2) = plt.subplots(2, 1, sharey = True, figsize = (15, 10))\n",
    "ax1.plot(n_comp, var_exp, '-o')\n",
    "ax1.set_xlabel('number of components')\n",
    "ax1.set_ylabel('cumulative explained variance') \n",
    "\n",
    "# zoom in \n",
    "xmax = 20\n",
    "ax2.plot(n_comp, var_exp, '-o')\n",
    "ax2.set_xlim([0, xmax])\n",
    "ax2.set_xlabel('number of components')\n",
    "ax2.set_ylabel('cumulative explained variance')"
   ]
  },
  {
   "cell_type": "code",
   "execution_count": null,
   "metadata": {},
   "outputs": [],
   "source": [
    "# save session \n",
    "import dill \n",
    "dill.dump_session('nb_pca_complete.db')"
   ]
  },
  {
   "cell_type": "raw",
   "metadata": {},
   "source": [
    "#============================================================\n",
    "#  _____          _                                         \n",
    "# |  ___|__  __ _| |_ _   _ _ __ ___     \n",
    "# | |_ / _ \\/ _` | __| | | | '__/ _ \\                       \n",
    "# |  _|  __/ (_| | |_| |_| | | |  __/                       \n",
    "# |_|  \\___|\\__,_|\\__|\\__,_|_| _\\___|     _   _             \n",
    "# \\ \\   / (_)___ _   _  __ _| (_)______ _| |_(_) ___  _ __  \n",
    "#  \\ \\ / /| / __| | | |/ _` | | |_  / _` | __| |/ _ \\| '_ \\ \n",
    "#   \\ V / | \\__ \\ |_| | (_| | | |/ / (_| | |_| | (_) | | | |\n",
    "#    \\_/  |_|___/\\__,_|\\__,_|_|_/___\\__,_|\\__|_|\\___/|_| |_|\n",
    "#\n",
    "#============================================================  "
   ]
  },
  {
   "cell_type": "code",
   "execution_count": null,
   "metadata": {},
   "outputs": [],
   "source": [
    "# visualize features in low-dimensional space\n",
    "\n",
    "tsne     = TSNE(n_components = 3, learning_rate = 100, random_state = 42)\n",
    "\n",
    "# transform on data \n",
    "tsne_obj = tsne.fit_transform(x_train)\n",
    "\n",
    "# put results into a df\n",
    "tsne_df  = pd.DataFrame({'x' : tsne_obj[:,0], \n",
    "                         'y' : tsne_obj[:,1], \n",
    "                         'z' : tsne_obj[:,2], \n",
    "                         'label': y_train})"
   ]
  },
  {
   "cell_type": "code",
   "execution_count": null,
   "metadata": {},
   "outputs": [],
   "source": [
    "#%% 2D scattrplot \n",
    "\n",
    "sns.scatterplot(x = \"x\", y = \"y\", hue = \"label\", palette = [\"blue\", \"red\"], \n",
    "                legend = 'full', data = tsne_df);\n",
    "plt.title('Feature tsne plot')\n",
    "plt.gca().set_aspect('equal', adjustable = 'box')\n",
    "\n",
    "fig_name  = 'feat_tsne_plot_2d.jpg'\n",
    "fig_file  = os.path.join(results_dir, fig_name)\n",
    "\n",
    "manager   = plt.get_current_fig_manager()\n",
    "manager.window.showMaximized()\n",
    "plt.show()\n",
    "plt.pause(0.1) # needed for the image to be saved at full size\n",
    "plt.savefig(fig_file)"
   ]
  },
  {
   "cell_type": "code",
   "execution_count": null,
   "metadata": {},
   "outputs": [],
   "source": [
    "#%% 3D scatterplot \n",
    "\n",
    "ax = plt.figure(figsize=(16,10)).gca(projection = '3d')\n",
    "\n",
    "ax.scatter(xs    = tsne_df.loc[tsne_df['label'] == 0][\"x\"],\n",
    "           ys    = tsne_df.loc[tsne_df['label'] == 0][\"y\"],\n",
    "           zs    = tsne_df.loc[tsne_df['label'] == 0][\"z\"],\n",
    "           c     = 'blue', \n",
    "           label = '0') \n",
    "\n",
    "ax.scatter(xs    = tsne_df.loc[tsne_df['label'] == 1][\"x\"],\n",
    "           ys    = tsne_df.loc[tsne_df['label'] == 1][\"y\"],\n",
    "           zs    = tsne_df.loc[tsne_df['label'] == 1][\"z\"],\n",
    "           c     = 'red',\n",
    "           label = '1') \n",
    "\n",
    "ax.set_xlabel('tsne_1')\n",
    "ax.set_ylabel('tsne_2')\n",
    "ax.set_zlabel('tsne_3')\n",
    "\n",
    "plt.title('feat tsne scatterplot')\n",
    "plt.legend()\n",
    "plt.show()\n",
    "\n",
    "fig_name  = 'feat_tsne_plot_3d.pickle'\n",
    "fig_file  = os.path.join(results_dir, fig_name)\n",
    "\n",
    "# save figure \n",
    "output    = open(fig_file, 'wb')\n",
    "dump(plt.gcf(), output)\n",
    "output.close()"
   ]
  }
 ],
 "metadata": {
  "kernelspec": {
   "display_name": "Python 3",
   "language": "python",
   "name": "python3"
  },
  "language_info": {
   "codemirror_mode": {
    "name": "ipython",
    "version": 3
   },
   "file_extension": ".py",
   "mimetype": "text/x-python",
   "name": "python",
   "nbconvert_exporter": "python",
   "pygments_lexer": "ipython3",
   "version": "3.7.7"
  }
 },
 "nbformat": 4,
 "nbformat_minor": 4
}
