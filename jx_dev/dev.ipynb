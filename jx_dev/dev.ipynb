{
 "cells": [
  {
   "cell_type": "markdown",
   "metadata": {},
   "source": [
    "### Import Packages"
   ]
  },
  {
   "cell_type": "code",
   "execution_count": 11,
   "metadata": {},
   "outputs": [],
   "source": [
    "import pandas                  as     pd\n",
    "import numpy                   as     np\n",
    "import seaborn                 as     sns\n",
    "import os \n",
    "import matplotlib.pyplot       as     plt\n",
    "from   utils_text_clf          import utils_text_clf as utils\n",
    "from   sklearn.model_selection import StratifiedKFold, \\\n",
    "                                      cross_validate, \\\n",
    "                                      cross_val_predict, \\\n",
    "                                      GridSearchCV\n",
    "from   sklearn.pipeline        import Pipeline                            \n",
    "from   sklearn.preprocessing   import StandardScaler, \\\n",
    "                                      RobustScaler, \\\n",
    "                                      MinMaxScaler\n",
    "from   sklearn.tree            import DecisionTreeClassifier\n",
    "from   sklearn.linear_model    import LogisticRegression\n",
    "from   sklearn.svm             import LinearSVC, SVC\n",
    "from   sklearn.neighbors       import KNeighborsClassifier\n",
    "from   sklearn.naive_bayes     import GaussianNB\n",
    "from   sklearn.ensemble        import RandomForestClassifier, \\\n",
    "                                      AdaBoostClassifier, \\\n",
    "                                      GradientBoostingClassifier\n",
    "from   sklearn.manifold        import TSNE\n",
    "from   sklearn.decomposition   import PCA\n",
    "import xgboost                 as     xgb\n",
    "from   sklearn.metrics         import roc_curve\n",
    "from   scipy                   import interp\n",
    "from   pathlib                 import Path\n",
    "from   pickle                  import dump\n",
    "import joblib\n",
    "\n",
    "# Turn interactive plotting off\n",
    "plt.ion()  \n",
    "import warnings\n",
    "warnings.filterwarnings(\"ignore\")"
   ]
  },
  {
   "cell_type": "markdown",
   "metadata": {},
   "source": [
    "### Run feature engineering"
   ]
  },
  {
   "cell_type": "code",
   "execution_count": null,
   "metadata": {},
   "outputs": [],
   "source": [
    "#%% run feature engineering code \n",
    "%run feature_engineering.py\n",
    "print('done!')"
   ]
  },
  {
   "cell_type": "markdown",
   "metadata": {},
   "source": [
    "### Enter mutable info"
   ]
  },
  {
   "cell_type": "code",
   "execution_count": 5,
   "metadata": {},
   "outputs": [],
   "source": [
    "#%% Enter mutable info\n",
    "\n",
    "data_dir    = os.path.join(os.getcwd(), 'data')\n",
    "results_dir = os.path.join(os.getcwd(), 'results')\n",
    "\n",
    "# training data \n",
    "#file_train = 'train.jsonl'\n",
    "\n",
    "# training data\n",
    "file_train  = 'train_feature_engineering.csv';\n",
    "file_test   = 'test_feature_engineering.csv'\n",
    "\n",
    "#file_train = os.path.join(data_dir, file_train) \n",
    "file_train  = os.path.join(data_dir, file_train) \n",
    "file_test   = os.path.join(data_dir, file_test)"
   ]
  },
  {
   "cell_type": "markdown",
   "metadata": {},
   "source": [
    "### Load in data "
   ]
  },
  {
   "cell_type": "code",
   "execution_count": 6,
   "metadata": {},
   "outputs": [],
   "source": [
    "#%% load in data \n",
    "\n",
    "#df_train = utils.parse_json(file_train)\n",
    "df_train  = pd.read_csv(file_train)\n",
    "\n",
    "# feats\n",
    "x_train  = df_train.iloc[:, 1:]\n",
    "\n",
    "# labels \n",
    "y_train  = df_train.label\n",
    "\n",
    "# convert labels to binary (1 - sarcasm)\n",
    "y_train  = [1 if i == 'SARCASM' else 0 for i in y_train]"
   ]
  },
  {
   "cell_type": "code",
   "execution_count": 7,
   "metadata": {},
   "outputs": [
    {
     "name": "stdout",
     "output_type": "stream",
     "text": [
      "The count of sarcastic tweets is: 2500\n",
      "The count of non-sarcastic tweets is: 2500\n"
     ]
    }
   ],
   "source": [
    "#%% check label proportions \n",
    "\n",
    "# print count\n",
    "print('The count of sarcastic tweets is:', y_train.count(1))\n",
    "print('The count of non-sarcastic tweets is:', y_train.count(0))"
   ]
  },
  {
   "cell_type": "code",
   "execution_count": 3,
   "metadata": {},
   "outputs": [
    {
     "data": {
      "text/plain": [
       "(5000, 9967)"
      ]
     },
     "execution_count": 3,
     "metadata": {},
     "output_type": "execute_result"
    }
   ],
   "source": [
    "# check the size of the training data \n",
    "x_train.shape"
   ]
  },
  {
   "cell_type": "raw",
   "metadata": {},
   "source": [
    "#==========================================\n",
    "#   ____   ____    _                      \n",
    "#  |  _ \\ / ___|  / \\                     \n",
    "#  | |_) | |     / _ \\                    \n",
    "#  |  __/| |___ / ___ \\ _           _     \n",
    "#  |_|/ \\ \\____/_/ __\\_\\ |_   _ ___(_)___ \n",
    "#    / _ \\ | '_ \\ / _` | | | | / __| / __|\n",
    "#   / ___ \\| | | | (_| | | |_| \\__ \\ \\__ \\\n",
    "#  /_/   \\_\\_| |_|\\__,_|_|\\__, |___/_|___/\n",
    "#                         |___/           \n",
    "#=========================================="
   ]
  },
  {
   "cell_type": "code",
   "execution_count": 4,
   "metadata": {},
   "outputs": [
    {
     "name": "stdout",
     "output_type": "stream",
     "text": [
      "pca done!\n"
     ]
    }
   ],
   "source": [
    "# compute PCAs\n",
    "x_train_scaled = StandardScaler().fit_transform(x_train)\n",
    "pca            = PCA().fit(x_train_scaled)\n",
    "print('pca done!')"
   ]
  },
  {
   "cell_type": "code",
   "execution_count": 5,
   "metadata": {},
   "outputs": [],
   "source": [
    "# variance explained \n",
    "var_exp = np.cumsum(pca.explained_variance_ratio_)\n",
    "\n",
    "# num of components \n",
    "n_comp  = range(len(var_exp))"
   ]
  },
  {
   "cell_type": "code",
   "execution_count": 15,
   "metadata": {},
   "outputs": [
    {
     "data": {
      "image/png": "[encoded data removed]",
      "text/plain": [
       "<Figure size 1080x432 with 1 Axes>"
      ]
     },
     "metadata": {
      "needs_background": "light"
     },
     "output_type": "display_data"
    }
   ],
   "source": [
    "# plot explained variance vs. # of components \n",
    "ax = plt.figure(figsize = (15, 6))\n",
    "plt.plot(n_comp, var_exp, '-o')\n",
    "plt.xlabel('number of components')\n",
    "plt.ylabel('cumulative explained variance') \n",
    "plt.autoscale(enable = True, axis = 'x', tight = True)"
   ]
  },
  {
   "cell_type": "markdown",
   "metadata": {},
   "source": [
    "There isn't a clear 'elbow' in the curve"
   ]
  },
  {
   "cell_type": "markdown",
   "metadata": {},
   "source": [
    "Find # of PCA components needed to explain 90% of variance in the data "
   ]
  },
  {
   "cell_type": "code",
   "execution_count": 21,
   "metadata": {},
   "outputs": [
    {
     "name": "stdout",
     "output_type": "stream",
     "text": [
      "2550\n"
     ]
    }
   ],
   "source": [
    "n_pca = np.where(var_exp >= 0.9)[0][0]\n",
    "print(n_pca)"
   ]
  },
  {
   "cell_type": "code",
   "execution_count": 22,
   "metadata": {},
   "outputs": [
    {
     "name": "stdout",
     "output_type": "stream",
     "text": [
      "session saved!\n"
     ]
    }
   ],
   "source": [
    "# save session \n",
    "import dill \n",
    "dill.dump_session('nb_pca_complete.db')\n",
    "print('session saved!')"
   ]
  },
  {
   "cell_type": "code",
   "execution_count": 1,
   "metadata": {},
   "outputs": [
    {
     "name": "stdout",
     "output_type": "stream",
     "text": [
      "session loaded!\n"
     ]
    }
   ],
   "source": [
    "# load session \n",
    "import dill \n",
    "dill.load_session('nb_pca_complete.db')\n",
    "print('session loaded!')"
   ]
  },
  {
   "cell_type": "raw",
   "metadata": {},
   "source": [
    "#============================================================\n",
    "#  _____          _                                         \n",
    "# |  ___|__  __ _| |_ _   _ _ __ ___     \n",
    "# | |_ / _ \\/ _` | __| | | | '__/ _ \\                       \n",
    "# |  _|  __/ (_| | |_| |_| | | |  __/                       \n",
    "# |_|  \\___|\\__,_|\\__|\\__,_|_| _\\___|     _   _             \n",
    "# \\ \\   / (_)___ _   _  __ _| (_)______ _| |_(_) ___  _ __  \n",
    "#  \\ \\ / /| / __| | | |/ _` | | |_  / _` | __| |/ _ \\| '_ \\ \n",
    "#   \\ V / | \\__ \\ |_| | (_| | | |/ / (_| | |_| | (_) | | | |\n",
    "#    \\_/  |_|___/\\__,_|\\__,_|_|_/___\\__,_|\\__|_|\\___/|_| |_|\n",
    "#\n",
    "#============================================================  "
   ]
  },
  {
   "cell_type": "code",
   "execution_count": 3,
   "metadata": {},
   "outputs": [],
   "source": [
    "# represent data using pca feats \n",
    "x_train_pca = PCA(n_components = n_pca).fit_transform(x_train_scaled)"
   ]
  },
  {
   "cell_type": "code",
   "execution_count": 4,
   "metadata": {},
   "outputs": [
    {
     "data": {
      "text/plain": [
       "(5000, 2550)"
      ]
     },
     "execution_count": 4,
     "metadata": {},
     "output_type": "execute_result"
    }
   ],
   "source": [
    "x_train_pca.shape"
   ]
  },
  {
   "cell_type": "code",
   "execution_count": 5,
   "metadata": {},
   "outputs": [],
   "source": [
    "# visualize features in low-dimensional space\n",
    "tsne     = TSNE(n_components = 3, learning_rate = 100, random_state = 42)\n",
    "\n",
    "# transform on data \n",
    "tsne_obj = tsne.fit_transform(x_train_pca)\n",
    "\n",
    "# put results into a df\n",
    "tsne_df  = pd.DataFrame({'x' : tsne_obj[:,0], \n",
    "                         'y' : tsne_obj[:,1], \n",
    "                         'z' : tsne_obj[:,2], \n",
    "                         'label': y_train})"
   ]
  },
  {
   "cell_type": "code",
   "execution_count": 6,
   "metadata": {},
   "outputs": [
    {
     "name": "stdout",
     "output_type": "stream",
     "text": [
      "session saved!\n"
     ]
    }
   ],
   "source": [
    "# save session \n",
    "import dill \n",
    "dill.dump_session('nb_tsne_complete.db')\n",
    "print('session saved!')"
   ]
  },
  {
   "cell_type": "code",
   "execution_count": 1,
   "metadata": {},
   "outputs": [
    {
     "name": "stdout",
     "output_type": "stream",
     "text": [
      "session loaded!\n"
     ]
    }
   ],
   "source": [
    "# load session \n",
    "import dill \n",
    "dill.load_session('nb_tsne_complete.db')\n",
    "print('session loaded!')"
   ]
  },
  {
   "cell_type": "code",
   "execution_count": 2,
   "metadata": {},
   "outputs": [
    {
     "data": {
      "image/png": "[encoded data removed]",
      "text/plain": [
       "<Figure size 1080x432 with 1 Axes>"
      ]
     },
     "metadata": {
      "needs_background": "light"
     },
     "output_type": "display_data"
    },
    {
     "data": {
      "text/plain": [
       "<Figure size 432x288 with 0 Axes>"
      ]
     },
     "metadata": {},
     "output_type": "display_data"
    }
   ],
   "source": [
    "#%% 2D scattrplot \n",
    "ax = plt.figure(figsize = (15, 6))\n",
    "sns.scatterplot(x = \"x\", y = \"y\", hue = \"label\", palette = [\"blue\", \"red\"], \n",
    "                legend = 'full', data = tsne_df);\n",
    "plt.title('Feature tsne plot')\n",
    "plt.gca().set_aspect('equal', adjustable = 'box')\n",
    "\n",
    "fig_name  = 'feat_tsne_plot_2d.jpg'\n",
    "fig_file  = os.path.join(results_dir, fig_name)\n",
    "\n",
    "# manager   = plt.get_current_fig_manager()\n",
    "# manager.window.showMaximized()\n",
    "plt.show()\n",
    "plt.pause(0.1) # needed for the image to be saved at full size\n",
    "plt.savefig(fig_file)"
   ]
  },
  {
   "cell_type": "code",
   "execution_count": 5,
   "metadata": {},
   "outputs": [],
   "source": [
    "#%% 3D scatterplot \n",
    "from mpl_toolkits.mplot3d import axes3d    \n",
    "%matplotlib qt \n",
    "ax = plt.figure(figsize=(16,10)).gca(projection = '3d')\n",
    "\n",
    "ax.scatter(xs    = tsne_df.loc[tsne_df['label'] == 0][\"x\"],\n",
    "           ys    = tsne_df.loc[tsne_df['label'] == 0][\"y\"],\n",
    "           zs    = tsne_df.loc[tsne_df['label'] == 0][\"z\"],\n",
    "           c     = 'blue', \n",
    "           label = '0') \n",
    "\n",
    "ax.scatter(xs    = tsne_df.loc[tsne_df['label'] == 1][\"x\"],\n",
    "           ys    = tsne_df.loc[tsne_df['label'] == 1][\"y\"],\n",
    "           zs    = tsne_df.loc[tsne_df['label'] == 1][\"z\"],\n",
    "           c     = 'red',\n",
    "           label = '1') \n",
    "\n",
    "ax.set_xlabel('tsne_1')\n",
    "ax.set_ylabel('tsne_2')\n",
    "ax.set_zlabel('tsne_3')\n",
    "\n",
    "plt.title('feat tsne scatterplot')\n",
    "plt.legend()\n",
    "plt.show()\n",
    "\n",
    "fig_name  = 'feat_tsne_plot_3d.pickle'\n",
    "fig_file  = os.path.join(results_dir, fig_name)\n",
    "\n",
    "# save figure \n",
    "output    = open(fig_file, 'wb')\n",
    "dump(plt.gcf(), output)\n",
    "output.close()"
   ]
  },
  {
   "cell_type": "code",
   "execution_count": 6,
   "metadata": {},
   "outputs": [],
   "source": [
    "%matplotlib inline"
   ]
  },
  {
   "cell_type": "raw",
   "metadata": {},
   "source": [
    "#===================================================\n",
    "#                  _          _               _    \n",
    "#  ___ _ __   ___ | |_    ___| |__   ___  ___| | __\n",
    "# / __| '_ \\ / _ \\| __|  / __| '_ \\ / _ \\/ __| |/ /\n",
    "# \\__ \\ |_) | (_) | |_  | (__| | | |  __/ (__|   < \n",
    "# |___/ .__/ \\___/ \\__|  \\___|_| |_|\\___|\\___|_|\\_\\\n",
    "#     |_|                                          \n",
    "#==================================================="
   ]
  },
  {
   "cell_type": "code",
   "execution_count": 2,
   "metadata": {},
   "outputs": [],
   "source": [
    "# create base models \n",
    "\n",
    "# decision tree\n",
    "dtree_clf     = DecisionTreeClassifier(class_weight = 'balanced', \n",
    "                                       random_state = 42)\n",
    "dtree         = Pipeline([('scaler',    StandardScaler()), \n",
    "                          ('pca',       PCA(n_pca)),\n",
    "                          ('dtree_clf', dtree_clf)]) \n",
    "\n",
    "# logistic regression \n",
    "logreg_clf    = LogisticRegression(n_jobs       = -1, \n",
    "                                   class_weight = 'balanced', \n",
    "                                   random_state = 42)\n",
    "logreg        = Pipeline([('scaler',     StandardScaler()),\n",
    "                          ('pca',       PCA(n_pca)),\n",
    "                          ('logreg_clf', logreg_clf)]) \n",
    "\n",
    "# linear SVM\n",
    "svc_lin_clf   = LinearSVC(max_iter     = 20000, \n",
    "                          class_weight = 'balanced', \n",
    "                          random_state = 42)\n",
    "svc_lin       = Pipeline([('scaler',      StandardScaler()),\n",
    "                          ('pca',       PCA(n_pca)),\n",
    "                          ('svc_lin_clf', svc_lin_clf)]) \n",
    "\n",
    "# rbf kernel SVM\n",
    "svc_rbf_clf   = SVC(kernel       = 'rbf', \n",
    "                    C            = 1, \n",
    "                    gamma        = 'auto', \n",
    "                    probability  = True, \n",
    "                    max_iter     = 20000, \n",
    "                    random_state = 42)\n",
    "svc_rbf       = Pipeline([('scaler',      StandardScaler()),\n",
    "                          ('pca',         PCA(n_pca)),\n",
    "                          ('svc_rbf_clf', svc_rbf_clf)]) \n",
    "\n",
    "# naive Bayes \n",
    "NB_clf        = GaussianNB()\n",
    "NB            = Pipeline([('scaler', StandardScaler()),\n",
    "                          ('pca',    PCA(n_pca)),\n",
    "                          ('NB_clf', NB_clf)]) \n",
    "\n",
    "# KNN\n",
    "knn_clf       = KNeighborsClassifier(n_jobs       = -1)\n",
    "knn           = Pipeline([('scaler',  StandardScaler()),\n",
    "                          ('pca',     PCA(n_pca)),\n",
    "                          ('knn_clf', knn_clf)]) \n",
    "\n",
    "# random forest classifier\n",
    "rndf_clf      = RandomForestClassifier(n_estimators   = 250,  \n",
    "                                       max_leaf_nodes = 16, \n",
    "                                       n_jobs         = -1, \n",
    "                                       class_weight   = 'balanced', \n",
    "                                       random_state   = 42)\n",
    "rndf          = Pipeline([('scaler',   StandardScaler()),\n",
    "                          ('pca',      PCA(n_pca)),\n",
    "                          ('rndf_clf', rndf_clf)]) \n",
    "\n",
    "# xgboost\n",
    "xgb_clf       = xgb.XGBClassifier(seed = 42)\n",
    "xgb           = Pipeline([('scaler',  StandardScaler()),\n",
    "                          ('pca',     PCA(n_pca)),\n",
    "                          ('xgb_clf', xgb_clf)]) \n",
    "\n",
    "# stochastic gradient boosting\n",
    "gb_clf        = GradientBoostingClassifier(random_state = 42)\n",
    "gb            = Pipeline([('scaler',  StandardScaler()),\n",
    "                          ('pca',     PCA(n_pca)),\n",
    "                          ('gb_clf',  gb_clf)])\n",
    "\n",
    "# adaboost\n",
    "adb_clf       = AdaBoostClassifier(random_state = 42)\n",
    "adb           = Pipeline([('scaler',  StandardScaler()),\n",
    "                          ('pca',     PCA(n_pca)),\n",
    "                          ('adb_clf', adb_clf)]) \n",
    "\n",
    "#%% create model pipeline \n",
    "\n",
    "# Append models \n",
    "models        = [] \n",
    "models.append(['DTREE' , dtree])\n",
    "models.append(['LOGREG', logreg])\n",
    "models.append(['SVCLIN', svc_lin])\n",
    "models.append(['SVCRBF', svc_rbf])\n",
    "models.append(['KNN'   , knn])\n",
    "models.append(['NB'    , NB])\n",
    "models.append(['RNDF'  , rndf])\n",
    "models.append(['XGB'   , xgb])"
   ]
  },
  {
   "cell_type": "code",
   "execution_count": 3,
   "metadata": {},
   "outputs": [
    {
     "name": "stderr",
     "output_type": "stream",
     "text": [
      "C:\\Users\\joexi\\Anaconda3\\lib\\site-packages\\sklearn\\model_selection\\_split.py:297: FutureWarning: Setting a random_state has no effect since shuffle is False. This will raise an error in 0.24. You should leave random_state to its default (None), or set shuffle=True.\n",
      "  FutureWarning\n"
     ]
    }
   ],
   "source": [
    "#%% set cross validation metrics \n",
    "\n",
    "n_splits      = 10 # folds \n",
    "cv            = StratifiedKFold(n_splits = n_splits, random_state = 42)\n",
    "scores        = ['accuracy', 'recall', 'precision', 'roc_auc', 'f1']\n",
    "\n",
    "#%% prepare cross-validation storage\n",
    "\n",
    "# define the columns of the cross-validation results dataframe \n",
    "xval_cols     = ['classifier', \n",
    "                 'recall', \n",
    "                 'precision',\n",
    "                 'f1',\n",
    "                 'accuracy',\n",
    "                 'roc_auc']\n",
    "\n",
    "roc_cols      = ['classifier', 'tpr', 'fpr']\n",
    "\n",
    "# dataframe to store cross-validation results \n",
    "df_xval       = pd.DataFrame(index = range(n_splits), columns = xval_cols)\n",
    "df_xval_all   = pd.DataFrame()\n",
    "df_xval_roc   = pd.DataFrame()"
   ]
  },
  {
   "cell_type": "code",
   "execution_count": null,
   "metadata": {},
   "outputs": [],
   "source": [
    "#%% spot check models on training data \n",
    "\n",
    "# loop through the classifiers \n",
    "\n",
    "for i, (name, model) in enumerate(models): \n",
    "\n",
    "    # cross-validate and compute scores \n",
    "    score_results              = cross_validate(model, \n",
    "                                                x_train_pca, \n",
    "                                                y_train, \n",
    "                                                scoring            = scores, \n",
    "                                                cv                 = cv, \n",
    "                                                return_train_score = False, \n",
    "                                                n_jobs             = -1)\n",
    "    \n",
    "    print(name + ' cross-validation completed')\n",
    "\n",
    "    # clean up the df \n",
    "    score_results              = pd.DataFrame(score_results).loc[:,['test_accuracy', 'test_f1', 'test_recall', 'test_precision', 'test_roc_auc']]\n",
    "    score_results.columns      = score_results.columns.str.replace('test_','')\n",
    "    \n",
    "    # store the metric results \n",
    "    for metric in score_results.columns:\n",
    "        df_xval.loc[:, metric] = score_results[metric]\n",
    "        \n",
    "    # Fill in the 'classifier' column \n",
    "    df_xval['classifier']      = np.repeat(name, n_splits, axis = 0)\n",
    "\n",
    "    # compute class prediction probabilities \n",
    "    if hasattr(model, 'predict_proba'):\n",
    "        y_pred                 = cross_val_predict(model, \n",
    "                                                   x_train_pca, \n",
    "                                                   y_train, \n",
    "                                                   cv     = cv, \n",
    "                                                   n_jobs = -1, \n",
    "                                                   method = 'predict_proba')\n",
    "        print(name + ' cross_val_predict completed')\n",
    "                \n",
    "    # compute the fpr, tpr\n",
    "    fpr_reg                    = np.linspace(0, 1, 501) # at regular ticks \n",
    "            \n",
    "    fpr, tpr, _                = roc_curve(y_train, y_pred[:,1], pos_label = 1)\n",
    "    tpr                        = interp(fpr_reg, fpr, tpr)\n",
    "        \n",
    "    # Store fpr, tpr\n",
    "    run_dict                   = dict.fromkeys(roc_cols) \n",
    "    run_dict['fpr']            = list(fpr_reg)\n",
    "    run_dict['tpr']            = list(tpr)\n",
    "    run_dict['classifier']     = name\n",
    "\n",
    "    # append to the roc results dataframe \n",
    "    df_xval_roc                = df_xval_roc.append(pd.Series(run_dict).to_frame().T, ignore_index = True) \n",
    "\n",
    "    # append to the overall cross-validation results dataframe \n",
    "    df_xval_all                = df_xval_all.append(df_xval, ignore_index = True)\n",
    "    "
   ]
  },
  {
   "cell_type": "code",
   "execution_count": null,
   "metadata": {},
   "outputs": [],
   "source": [
    "#%% review x-val results \n",
    "\n",
    "df_xval_all.groupby('classifier').mean()"
   ]
  },
  {
   "cell_type": "code",
   "execution_count": null,
   "metadata": {},
   "outputs": [],
   "source": [
    "#%% boxplot of results \n",
    "\n",
    "fig       = plt.figure(figsize = (20,15))\n",
    "fig.tight_layout()\n",
    "\n",
    "for i, metric in enumerate(df_xval_all.drop(['classifier'], axis = 1)):\n",
    "    ax    = fig.add_subplot(3, 2, i+1)\n",
    "    h     = sns.boxplot(y      = metric, \n",
    "                        x      = 'classifier', \n",
    "                        data   = df_xval_all,  \n",
    "                        orient = 'v', \n",
    "                        ax     = ax)\n",
    "    h.set_ylabel(metric,fontsize = 20)\n",
    "    h.set_xticklabels(h.get_xticklabels(), rotation = 20)\n",
    "    h.set_xlabel('classifier',fontsize = 10)\n",
    "    plt.tick_params(labelsize = 10)\n",
    "\n",
    "fig.suptitle('Cross-validation results grouped by classifier', fontsize = 20)\n",
    "\n",
    "# save fig\n",
    "fig_name  = 'x_train_xval_results.jpg'\n",
    "fig_file  = os.path.join(results_dir, fig_name)\n",
    "\n",
    "manager   = plt.get_current_fig_manager()\n",
    "manager.window.showMaximized()\n",
    "\n",
    "plt.show()\n",
    "plt.pause(0.1) # needed for the image to be saved at full size\n",
    "plt.savefig(Path(fig_file))"
   ]
  },
  {
   "cell_type": "code",
   "execution_count": null,
   "metadata": {},
   "outputs": [],
   "source": [
    "#%% plot cross-validated ROC \n",
    "\n",
    "# Plot roc\n",
    "plt.figure(figsize = [20,15])\n",
    "\n",
    "for i in range(len(df_xval_roc.index)):\n",
    "    \n",
    "    # id classifier\n",
    "    clf = df_xval_roc.loc[i, 'classifier']\n",
    "    \n",
    "    plt.plot(df_xval_roc.loc[i, 'fpr'], df_xval_roc.loc[i, 'tpr'], lw = 4, \n",
    "             label = df_xval_roc.loc[i, 'classifier'] + ' (AUC = %0.2f)' % df_xval_all[df_xval_all['classifier'] == clf]['roc_auc'].mean())\n",
    "\n",
    "plt.plot([0, 1], [0, 1], color='navy', lw = 4, linestyle='--')\n",
    "plt.xlim([0.0, 1.0])\n",
    "plt.ylim([0.0, 1.05])\n",
    "plt.xlabel('False Positive Rate', fontsize = 20)\n",
    "plt.ylabel('True Positive Rate', fontsize = 20)\n",
    "plt.title('Mean cross-validated ROCs', fontsize = 20)\n",
    "plt.legend(loc=\"lower right\", prop={'size': 20})\n",
    "plt.tick_params(labelsize = 20)\n",
    "plt.show()\n",
    "\n",
    "# save fig\n",
    "fig_name  = 'x_train_xval_roc.jpg'\n",
    "fig_file  = os.path.join(results_dir, fig_name)\n",
    "\n",
    "manager   = plt.get_current_fig_manager()\n",
    "manager.window.showMaximized()\n",
    "plt.show()\n",
    "plt.pause(0.1) # needed for the image to be saved at full size\n",
    "plt.savefig(Path(fig_file))\n"
   ]
  }
 ],
 "metadata": {
  "kernelspec": {
   "display_name": "Python 3",
   "language": "python",
   "name": "python3"
  },
  "language_info": {
   "codemirror_mode": {
    "name": "ipython",
    "version": 3
   },
   "file_extension": ".py",
   "mimetype": "text/x-python",
   "name": "python",
   "nbconvert_exporter": "python",
   "pygments_lexer": "ipython3",
   "version": "3.7.7"
  }
 },
 "nbformat": 4,
 "nbformat_minor": 4
}
